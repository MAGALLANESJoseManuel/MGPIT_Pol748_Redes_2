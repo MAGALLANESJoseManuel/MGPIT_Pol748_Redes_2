{
 "cells": [
  {
   "cell_type": "markdown",
   "id": "951d46a3-de0a-4b0f-9923-3ddf4f0000a8",
   "metadata": {},
   "source": [
    "<center><img src=\"https://i.imgur.com/YNtjmbq.png\" width=\"800\"></center> "
   ]
  },
  {
   "cell_type": "markdown",
   "id": "3e4f7a3b",
   "metadata": {},
   "source": [
    "<div class=\"alert alert-info\" role=\"alert\">\n",
    "    \n",
    "## Data para la sesión\n",
    "\n",
    "Para esta sesión, los datos puedes descargarlos en _tu_ carpeta **data** desde este [enlace](https://drive.google.com/drive/folders/1n5z4r2LAAXuEPC5chq5sZkHf5I3QcUKX?usp=sharing).\n",
    "</div>\n",
    "\n"
   ]
  },
  {
   "cell_type": "markdown",
   "id": "a8607510-5230-4696-af43-acfc51c0237c",
   "metadata": {},
   "source": [
    "# Práctica 2 – Exploración de Redes\n"
   ]
  },
  {
   "cell_type": "markdown",
   "id": "7aa749f7-feb2-4a1e-a2b3-52b4855b4903",
   "metadata": {},
   "source": [
    "En el año 2018, Quinten Dol sugirió a los usuarios de Twitter seguir a estas celebridades de la Tecnologia local:"
   ]
  },
  {
   "cell_type": "code",
   "execution_count": null,
   "id": "e1d5bcf6-43c0-4ee2-8511-8b18443aaedd",
   "metadata": {},
   "outputs": [],
   "source": [
    "from IPython.display import IFrame\n",
    "IFrame('https://www.builtinseattle.com/2018/08/06/50-seattle-tech-twitter-accounts-to-follow', 800, 350)"
   ]
  },
  {
   "cell_type": "markdown",
   "id": "2693fed5-6ad1-43e3-8fa4-986cc69b10a4",
   "metadata": {},
   "source": [
    "Aunque proponía 50 _influencers_, sólo hay 46 activos en X (antes Twitter). Se construyó una red para ver si entre ellos se seguían, y esto tenemos:"
   ]
  },
  {
   "cell_type": "code",
   "execution_count": null,
   "id": "7402f48a",
   "metadata": {},
   "outputs": [],
   "source": [
    "IFrame('https://docs.google.com/spreadsheets/d/e/2PACX-1vQaaNQb2frjnlt0fPSBQhp5tNydB0a9ibp98sblBn6OfvGd8vsx8cfHb4w8Cm_qC3EIeYFby_zNQBoK/pubhtml', 800, 350)"
   ]
  },
  {
   "cell_type": "markdown",
   "id": "5c22265e",
   "metadata": {},
   "source": [
    "# Exploración Básica de la red\n",
    "\n",
    "Como ya sabemos, la red se arma con la **adjacency matrix** o la **edgelist**. Hagámoslo nuevamente:"
   ]
  },
  {
   "cell_type": "code",
   "execution_count": null,
   "id": "99027b8c",
   "metadata": {},
   "outputs": [],
   "source": [
    "# librerias necesarias\n",
    "import networkx as nx\n",
    "import pandas as pd\n",
    "\n",
    "# link a GoogleDrive como un Excel\n",
    "linkGoogle=\"https://docs.google.com/spreadsheets/d/e/2PACX-1vQaaNQb2frjnlt0fPSBQhp5tNydB0a9ibp98sblBn6OfvGd8vsx8cfHb4w8Cm_qC3EIeYFby_zNQBoK/pub?output=xlsx\"\n",
    "\n",
    "# leyendo archivo de red\n",
    "adjacency=pd.read_excel(linkGoogle,   \n",
    "                        index_col=0,  # la columna '0' guarda los nombres\n",
    "                        sheet_name='adjacency') # la tabla tiene este nombre\n",
    "\n",
    "# creando red dirigida\n",
    "TopFromAdjacency=nx.from_pandas_adjacency(adjacency,create_using=nx.DiGraph)"
   ]
  },
  {
   "cell_type": "markdown",
   "id": "66e738bd",
   "metadata": {},
   "source": [
    "El objeto **TopFromAdjacency** contiene a la red creada. Esta red es **dirigida** (DiGraph):"
   ]
  },
  {
   "cell_type": "code",
   "execution_count": null,
   "id": "498e6e81",
   "metadata": {},
   "outputs": [],
   "source": [
    "type(TopFromAdjacency)"
   ]
  },
  {
   "cell_type": "markdown",
   "id": "834de12c",
   "metadata": {},
   "source": [
    "¿Tendremos algun _influencer_ que no siga a otro ni sea seguido por otro?"
   ]
  },
  {
   "cell_type": "code",
   "execution_count": null,
   "id": "bc794845",
   "metadata": {},
   "outputs": [],
   "source": [
    "list(nx.isolates(TopFromAdjacency))"
   ]
  },
  {
   "cell_type": "markdown",
   "id": "f0dfaba1",
   "metadata": {},
   "source": [
    "De ahi que la red no mostrará nodos aislados:"
   ]
  },
  {
   "cell_type": "code",
   "execution_count": null,
   "id": "ea9c92fb",
   "metadata": {},
   "outputs": [],
   "source": [
    "nx.draw(TopFromAdjacency, with_labels=True,edge_color='grey',width=0.3,node_color='yellow')"
   ]
  },
  {
   "cell_type": "markdown",
   "id": "0a9cc381",
   "metadata": {},
   "source": [
    "Por lo general, podemos explorar la red de dos maneras:\n",
    "\n",
    "1. A nivel de red en total.\n",
    "2. A nivel de cada actor (nodo)."
   ]
  },
  {
   "cell_type": "markdown",
   "id": "6e97c7e3",
   "metadata": {},
   "source": [
    "## Explorando a nivel de red"
   ]
  },
  {
   "cell_type": "markdown",
   "id": "9980b9fe",
   "metadata": {},
   "source": [
    "Recordemos la cantidad de nodos y enlaces de la red."
   ]
  },
  {
   "cell_type": "code",
   "execution_count": null,
   "id": "c85be679",
   "metadata": {},
   "outputs": [],
   "source": [
    "# nodos , #enlaces\n",
    "TopFromAdjacency.number_of_nodes(),TopFromAdjacency.number_of_edges()"
   ]
  },
  {
   "cell_type": "markdown",
   "id": "56b22d44-2102-4bf7-96e2-222d490299a8",
   "metadata": {},
   "source": [
    "<div class=\"alert alert-success\" role=\"alert\">Red strongly connected \n",
    "</div>"
   ]
  },
  {
   "cell_type": "markdown",
   "id": "f67a9de5",
   "metadata": {},
   "source": [
    "Una de las primeras interrogantes, es saber si cada nodo puede conectarse con otro nodo. Para que ello sucede, teniendo en cuenta que la red es dirigida, debe haber un **path** o camino (sequencia de flechas) entre todo par de nodos de la red. Si esto fuera así, se debe verificar que la red es **strongly_connected**.\n",
    "\n",
    "En la Figura 1 vemos una red que tiene componentes fuertemente conectados, pero la red en su totalidad no lo es:\n",
    "<figure>\n",
    "<img src=\"https://github.com/MAGALLANESJoseManuel/MGPIT_Pol748_Redes_2/raw/main/picsForSession/strongly_connected.png\" style=\"width:70%\">\n",
    "<figcaption align = \"center\"> Figura 1. Red y componentes fuertemente conectados </figcaption>\n",
    "    <a href=\"https://en.wikipedia.org/wiki/Strongly_connected_component\" class=\"alert-link\">Fuente:Wikipedia</a>\n",
    "</figure>\n",
    "\n",
    "\n",
    "Nuestra red tampoco lo es:"
   ]
  },
  {
   "cell_type": "code",
   "execution_count": null,
   "id": "fdabb832",
   "metadata": {},
   "outputs": [],
   "source": [
    "nx.is_strongly_connected(TopFromAdjacency)"
   ]
  },
  {
   "cell_type": "markdown",
   "id": "ebffcbed",
   "metadata": {},
   "source": [
    "El resultado anterior indica que hay algunos nodos que no pueden ser alcanzados por otros nodos.\n",
    "\n",
    "Revisemos tres conceptos clave para entedender la red:\n",
    "\n",
    "1. Distancia o **Distance**.\n",
    "2. Alcanzabilidad o **Reachability**.\n",
    "2. Densidad o **Density**. \n",
    "\n",
    "<div class=\"alert alert-success\" role=\"alert\">Distancia y el Geodésico </div>\n",
    "\n",
    "La **distance** se entiende como la cantidad de _edges_ que separan un par de nodos. Como entre algun par de nodos puede haber muchas distancias, llamamos **geodésico** a la distancia más corta entre dos nodos. La Figura 2 nos muestra algunos geodésicos:\n",
    "\n",
    "<figure>\n",
    "<img src=\"https://github.com/MAGALLANESJoseManuel/MGPIT_Pol748_Redes_2/raw/main/picsForSession/geodesics.png\" style=\"width:70%\">\n",
    "<figcaption align = \"center\"> Figura 2. Geodésicos. \n",
    " </figcaption>\n",
    " <a href=\"https://www.wolframphysics.org/technical-introduction/limiting-behavior-and-emergent-geometry/geodesics/\" class=\"alert-link\">Fuente: Wolframphysics</a>\n",
    "</figure>\n",
    "\n",
    "Calculemos todos los gesodésicos de nuestra red:"
   ]
  },
  {
   "cell_type": "code",
   "execution_count": null,
   "id": "abc4f067",
   "metadata": {},
   "outputs": [],
   "source": [
    "# calcular los geodesicos para cada nodo\n",
    "geodesics = dict(nx.all_pairs_shortest_path_length(TopFromAdjacency))\n",
    "\n",
    "# formatear geodesicos como matriz\n",
    "MatrixGeo = [[geodesics.get(n,{}).get(m)  for m in TopFromAdjacency.nodes] for n in TopFromAdjacency.nodes]\n",
    "\n",
    "# formatear matriz de geodesicos como dataframe\n",
    "MatrixGeo_DF=pd.DataFrame(MatrixGeo,index=TopFromAdjacency.nodes, columns=TopFromAdjacency.nodes)\n",
    "\n",
    "#tenemos\n",
    "MatrixGeo_DF"
   ]
  },
  {
   "cell_type": "markdown",
   "id": "a18ff899",
   "metadata": {},
   "source": [
    "De la matriz podemos calcular la distribución de frequencias de los geodésicos:"
   ]
  },
  {
   "cell_type": "code",
   "execution_count": null,
   "id": "f86aa05a",
   "metadata": {},
   "outputs": [],
   "source": [
    "import numpy as np\n",
    "\n",
    "pd.DataFrame(np.unique(MatrixGeo_DF.values, return_counts=True),index=['valor','freq']).T.set_index('valor')"
   ]
  },
  {
   "cell_type": "markdown",
   "id": "e8700f69",
   "metadata": {},
   "source": [
    "La diagonal es cero (hay 46 ceros por ello), y hay 135 pares que no pueden conectase."
   ]
  },
  {
   "cell_type": "markdown",
   "id": "509d170d",
   "metadata": {},
   "source": [
    "Una métrica clave  que podemos calcular de la matriz de geodésicos es el **diámetro**. El diámetro es el máximo de los geodésico, pues representa la distancia mas corta entre las celdas mas alejadas de la red. Veámoslo en la Figura 3.\n",
    "\n",
    "<figure>\n",
    "<img src=\"https://github.com/MAGALLANESJoseManuel/MGPIT_Pol748_Redes_2/raw/main/picsForSession/diameter.png\" style=\"width:70%\">\n",
    "<figcaption align = \"center\"> Figura 3. Diámetro. \n",
    " </figcaption>\n",
    " Fuente: Autor.\n",
    "</figure>\n",
    "\n",
    "\n",
    "La función **diameter()** no podemos calcularlo de una red que no se fuertemente conectada:"
   ]
  },
  {
   "cell_type": "code",
   "execution_count": null,
   "id": "673ed83e",
   "metadata": {},
   "outputs": [],
   "source": [
    "# nx.diameter(TopFromAdjacency)"
   ]
  },
  {
   "cell_type": "markdown",
   "id": "66ab8c36",
   "metadata": {},
   "source": [
    "Veamos a los componentes fuertemente conectados:"
   ]
  },
  {
   "cell_type": "code",
   "execution_count": null,
   "id": "32144662",
   "metadata": {},
   "outputs": [],
   "source": [
    "Seattle_connComp = sorted(nx.strongly_connected_components(TopFromAdjacency), key=len, reverse=False)\n",
    "Seattle_connComp"
   ]
  },
  {
   "cell_type": "markdown",
   "id": "2a70f934-d91d-47f1-8f7e-99b16a1eb8cc",
   "metadata": {},
   "source": [
    "Ahora sí, calculo el diametro para el último componente (el de más elementos):"
   ]
  },
  {
   "cell_type": "code",
   "execution_count": null,
   "id": "7e92fb30-2ba1-4440-8b8a-65676466ad40",
   "metadata": {},
   "outputs": [],
   "source": [
    "nx.diameter(TopFromAdjacency.subgraph(Seattle_connComp[3]))"
   ]
  },
  {
   "cell_type": "markdown",
   "id": "d04f21f6",
   "metadata": {},
   "source": [
    "Esta función lo hace de manera similar:"
   ]
  },
  {
   "cell_type": "code",
   "execution_count": null,
   "id": "0d1bd382",
   "metadata": {},
   "outputs": [],
   "source": [
    "MatrixGeo_DF.max().max()"
   ]
  },
  {
   "cell_type": "markdown",
   "id": "6c0e6e29",
   "metadata": {},
   "source": [
    "<div class=\"alert alert-success\" role=\"alert\">Alcanzabilidad </div>\n",
    "\n",
    "De la matriz de geodésicos podemos obtener la **reachability matrix**, que nos informa si hay conexión entre nodos:"
   ]
  },
  {
   "cell_type": "code",
   "execution_count": null,
   "id": "47dc8197",
   "metadata": {},
   "outputs": [],
   "source": [
    "MatrixReach_DF=(MatrixGeo_DF>0).replace({True:1,False:0})\n",
    "MatrixReach_DF"
   ]
  },
  {
   "cell_type": "markdown",
   "id": "36e591bb",
   "metadata": {},
   "source": [
    "De esta matriz podemos calcular el porcentaje de conexiones existentes (**connectedness**):"
   ]
  },
  {
   "cell_type": "code",
   "execution_count": null,
   "id": "8da655c8",
   "metadata": {},
   "outputs": [],
   "source": [
    "nNodes=TopFromAdjacency.number_of_nodes()\n",
    "MatrixReach_DF.sum().sum()/(nNodes*(nNodes-1))"
   ]
  },
  {
   "cell_type": "markdown",
   "id": "5611c366",
   "metadata": {},
   "source": [
    "Notese que la fila de _2morrowknight_ está llena de ceros (pero no es la única), déjame mostrarte la **red ego** de este actor (su vecindario de conexiones):"
   ]
  },
  {
   "cell_type": "code",
   "execution_count": null,
   "id": "884f4a30",
   "metadata": {},
   "outputs": [],
   "source": [
    "nx.draw(nx.ego_graph(TopFromAdjacency,'2morrowknight',undirected=True),with_labels=True)"
   ]
  },
  {
   "cell_type": "markdown",
   "id": "b64ed4ec",
   "metadata": {},
   "source": [
    "Se nota que _2morrowknight_ no tiene flechas que salen (out) de éste. Así, a _2morrowknight_ se le puede alcanzar, pero este no puede alcanzar a otros. Los otros actores los resaltamos aqui:"
   ]
  },
  {
   "cell_type": "code",
   "execution_count": null,
   "id": "ddc1f6e4",
   "metadata": {},
   "outputs": [],
   "source": [
    "nodesPositions=nx.spring_layout(TopFromAdjacency,k=0.5)\n",
    "ConnectedComponents =(TopFromAdjacency.subgraph(c).copy() for c in nx.strongly_connected_components(TopFromAdjacency))\n",
    "color_map = ['red' if node in Seattle_connComp[3] else 'green' for node in TopFromAdjacency.nodes()]\n",
    "nx.draw(TopFromAdjacency,nodesPositions,node_color=color_map,with_labels=True)"
   ]
  },
  {
   "cell_type": "markdown",
   "id": "ce17a30b",
   "metadata": {},
   "source": [
    "Un concepto que se desprende del _reachability_ es la **reciprocidad**, la proporcion de arcos dirigidos reciprocos, entre todos los arcos dirigidos."
   ]
  },
  {
   "cell_type": "code",
   "execution_count": null,
   "id": "bcfb3f04",
   "metadata": {},
   "outputs": [],
   "source": [
    "nx.overall_reciprocity(TopFromAdjacency)"
   ]
  },
  {
   "cell_type": "markdown",
   "id": "a3a1248f",
   "metadata": {},
   "source": [
    "La reciprocidad se puede calcular para cada nodo:"
   ]
  },
  {
   "cell_type": "code",
   "execution_count": null,
   "id": "5d0df3c1",
   "metadata": {},
   "outputs": [],
   "source": [
    "pd.DataFrame.from_dict(nx.reciprocity(TopFromAdjacency,nodes=TopFromAdjacency.nodes),\n",
    "                       orient='index',\n",
    "                       columns=['reci']).sort_values('reci',ascending=False)"
   ]
  },
  {
   "cell_type": "markdown",
   "id": "9d0b9759",
   "metadata": {},
   "source": [
    "<div class=\"alert alert-success\" role=\"alert\">Densidad </div>\n",
    "\n",
    "Finalmente, la **densidad** es otro concepto básico a recordar, nos dice que tan cerca está la red de estar completamente conectada, como podemos notar en la Figura 4."
   ]
  },
  {
   "cell_type": "markdown",
   "id": "c2723af5",
   "metadata": {},
   "source": [
    "<figure>\n",
    "<img src=\"https://github.com/MAGALLANESJoseManuel/MGPIT_Pol748_Redes_2/raw/main/picsForSession/density.png\" style=\"width:70%\">\n",
    "<figcaption align = \"center\"> Figura 4. Densidades en las redes. \n",
    " </figcaption>\n",
    " <a href=\"https://medium.com/@jane.vdplas/https-medium-com-protium-digital-what-are-network-effects-4f1ec159b6\">Fuente: Medium</a>\n",
    "</figure>\n"
   ]
  },
  {
   "cell_type": "markdown",
   "id": "441a0677-8142-41d6-810f-ab2338b3bb95",
   "metadata": {},
   "source": [
    "La densidad de nuestra red es:"
   ]
  },
  {
   "cell_type": "code",
   "execution_count": null,
   "id": "6cf1c10d",
   "metadata": {},
   "outputs": [],
   "source": [
    "nx.density(TopFromAdjacency)"
   ]
  },
  {
   "cell_type": "markdown",
   "id": "ea94d675-7a8b-40da-821d-84b4b0bf6032",
   "metadata": {},
   "source": [
    "Hay una relacion muy importante entre density y reachability; son conceptos que NO son sinónimos, como vemos en la Figura 5."
   ]
  },
  {
   "cell_type": "markdown",
   "id": "8e605c07",
   "metadata": {},
   "source": [
    "<figure>\n",
    "<img src=\"https://github.com/MAGALLANESJoseManuel/MGPIT_Pol748_Redes_2/raw/main/picsForSession/reachability-and-density.png\" style=\"width:70%\">\n",
    "<figcaption align = \"center\"> Figura 5. Reachability versus Density. \n",
    " </figcaption>\n",
    " <a href=\"https://www.researchgate.net/publication/42763973_Toward_a_Network_Perspective_of_the_Study_of_Resilience_in_Social-Ecological_Systems\">Fuente: Ecology and Society</a>\n",
    "</figure>\n"
   ]
  },
  {
   "cell_type": "markdown",
   "id": "51a89ce2",
   "metadata": {},
   "source": [
    "## Explorando a nivel de actor - CENTRALIDAD\n",
    "\n",
    "Luego de caracterizar a la red, podemos enfocarnos en la relevancia del actor en la red. La relevancia puede entenderse de diferentes maneras, y aqui las más utilizadas:\n",
    "\n",
    "* Grado o **DEGREE**: Indica la cantidad de conexiones de un nodo, representada en general como un coeficiente, donde 100% (1) indicaría que el nodo se conecta con todos los nodos. Cuando tenemos una red dirigida, se calcula por separado el **IN**DEGREE y el **OUT**DEGREE.\n",
    "* Cercanía o **CLOSENESS**: Indica que tan cerca está un nodo a todos los demás. Las conexiones de algun nodo le permiten 'llegar' más rápido a los demás que a otros. Es decir, el promedio de sus geodésicos es el menor de todos. Cuando tenemos una red dirigida, se calcula por separado el **IN**CLOSENESS y el **OUT**CLOSENESS.\n",
    "* Intermediación o **BETWEENNESS**: Indica que tanto es necesario un nodo para que algun nodo llegue a otro nodo. Esta importancia nace también del concepto del geodésico, pues un actor con alto betweenness aparece mucho en los geodésicos de la red,  y en el caso extremo, tiene la capacidad de desconectar a la red.\n",
    "\n",
    "La Figura 6 ejemplifica estos conceptos.\n",
    "\n",
    "<figure>\n",
    "<img src=\"https://github.com/MAGALLANESJoseManuel/MGPIT_Pol748_Redes_2/raw/main/picsForSession/centrality.png\" style=\"width:70%\">\n",
    "<figcaption align = \"center\"> Figura 6. Degree, Closeness y Betweenness. \n",
    " </figcaption>\n",
    " <a href=\"https://www.mdpi.com/2071-1050/14/7/3897\">Fuente: Sustainability</a>\n",
    "</figure>\n",
    "\n",
    "Aquí podemos ver estas medidas para todos los actores:"
   ]
  },
  {
   "cell_type": "code",
   "execution_count": null,
   "id": "0b2cfdd8",
   "metadata": {},
   "outputs": [],
   "source": [
    "actorMeasures=pd.concat([pd.DataFrame.from_dict(nx.out_degree_centrality(TopFromAdjacency),\n",
    "                                  orient='index',\n",
    "                                  columns=['OutDegree']),\n",
    "           pd.DataFrame.from_dict(nx.in_degree_centrality(TopFromAdjacency),\n",
    "                                  orient='index',\n",
    "                                  columns=['InDegree']),\n",
    "           pd.DataFrame.from_dict(nx.closeness_centrality(TopFromAdjacency.reverse()),\n",
    "                                  orient='index',\n",
    "                                  columns=['OutCloseness']),\n",
    "           pd.DataFrame.from_dict(nx.closeness_centrality(TopFromAdjacency),\n",
    "                                  orient='index',\n",
    "                                  columns=['InCloseness']),\n",
    "           pd.DataFrame.from_dict(nx.betweenness_centrality(TopFromAdjacency),\n",
    "                                  orient='index',\n",
    "                                  columns=['Betweenness'])],axis=1)\n",
    "## la tabla de medidas:\n",
    "actorMeasures"
   ]
  },
  {
   "cell_type": "markdown",
   "id": "815fe910-e329-4d33-aef8-d20aed0a8d16",
   "metadata": {},
   "source": [
    "Las Figuras 7 y 8 revelan los actores más relevantes."
   ]
  },
  {
   "cell_type": "code",
   "execution_count": null,
   "id": "3cc9f072",
   "metadata": {},
   "outputs": [],
   "source": [
    "import matplotlib.pyplot as plt\n",
    "\n",
    "fig, ax = plt.subplots(figsize=(10,10))\n",
    "\n",
    "ax.scatter(actorMeasures.OutCloseness, actorMeasures.InCloseness,s=1000*actorMeasures.InDegree,\n",
    "           c=100*actorMeasures.Betweenness,\n",
    "           cmap=plt.get_cmap('YlOrRd'), alpha=0.6)\n",
    "\n",
    "valsForAnnotate=zip(actorMeasures.index,actorMeasures.OutCloseness,actorMeasures.InCloseness)\n",
    "for name,coordX,coordY in valsForAnnotate:\n",
    "    ax.annotate(name, (coordX,coordY),alpha=0.5)\n",
    "    \n",
    "plt.title(\"Figura 7. Centralidad - I (size para In_Degree, color for Betweenness)\", y=-0.1)\n",
    "plt.xlabel(\"Out_Closeness\")\n",
    "plt.ylabel(\"In_Closeness\")\n",
    "plt.show()"
   ]
  },
  {
   "cell_type": "code",
   "execution_count": null,
   "id": "76d63cdb",
   "metadata": {},
   "outputs": [],
   "source": [
    "fig, ax = plt.subplots(figsize=(10,10))\n",
    "\n",
    "ax.scatter(actorMeasures.OutCloseness, actorMeasures.InCloseness,s=1000*actorMeasures.OutDegree,\n",
    "           c=100*actorMeasures.Betweenness,\n",
    "           cmap=plt.get_cmap('YlOrRd'), alpha=0.6)\n",
    "\n",
    "valsForAnnotate=zip(actorMeasures.index,actorMeasures.OutCloseness,actorMeasures.InCloseness)\n",
    "for name,coordX,coordY in valsForAnnotate:\n",
    "    ax.annotate(name, (coordX,coordY),alpha=0.5)\n",
    "    \n",
    "plt.title(\"Figura 8. Centralidad - II (size para Out_Degree, color for Betweenness)\", y=-0.1)\n",
    "plt.xlabel(\"Out_Closeness\")\n",
    "plt.ylabel(\"In_Closeness\")\n",
    "plt.show()"
   ]
  },
  {
   "cell_type": "markdown",
   "id": "b3c5df2d-626d-4fd1-b279-d72c0fe63ae4",
   "metadata": {},
   "source": [
    "# Practicando con UCINET"
   ]
  },
  {
   "cell_type": "markdown",
   "id": "9ea29c7d-fffb-4d96-91a1-7322299e006c",
   "metadata": {},
   "source": [
    "### Pasos previos en UCINET\n",
    "\n",
    "Para comenzar, no olvide indicar que **data** es el folder por defecto. Abramos en UCINET la matriz de adyacencia como en la sesión anterior (usando el **Matrix Editor**):\n",
    " \n",
    " \n",
    "<img src=\"https://i.imgur.com/5CcgRfx.png\" width=\"800\"/>\n",
    "\n",
    "La matriz de adyacencia se abrirá en el editor. Guardela en el formato de UCINET:\n",
    "\n",
    "\n",
    "<img src=\"https://i.imgur.com/5RIrcza.png\" width=\"800\"/>\n",
    "\n",
    "A esta altura, ya debes tener un archivo de UCINET con esta red.\n",
    "\n",
    "\n",
    "<img src=\"https://i.imgur.com/2lZCLEg.png\" width=\"800\"/>"
   ]
  },
  {
   "cell_type": "markdown",
   "id": "aa2878b7-7c22-4da9-8dc2-4f2a1d0d1f9b",
   "metadata": {},
   "source": [
    "###  Distancia y Geodesicos en UCINET\n",
    "\n",
    "UCINET puede calcular la matriz de geodésicos desde el menú principal, seleccionando **Network** y **Dyadic Mesures**:\n",
    "\n",
    "<figure>\n",
    "<img src=\"https://github.com/MAGALLANESJoseManuel/MGPIT_Pol748_Redes_2/raw/main/picsForSession/UCI_geodesMtx.png\" style=\"width:70%\">\n",
    "<figcaption align = \"center\"> Figura 9. Ruta hacia la matriz de geodésicos en UCINET. \n",
    " </figcaption>\n",
    " Fuente: UCINET\n",
    "</figure>"
   ]
  },
  {
   "cell_type": "markdown",
   "id": "c6149260",
   "metadata": {},
   "source": [
    "<div class=\"alert-success\">\n",
    "\n",
    "## Ejercicio 1\n",
    "\n",
    "La Figura 10 le muestra el menú para calcular la matriz de geodésicos.\n",
    "\n",
    "<figure>\n",
    "<img src=\"https://github.com/MAGALLANESJoseManuel/MGPIT_Pol748_Redes_2/raw/main/picsForSession/UCI_geodesMtx_Ex1.png\" style=\"width:70%\">\n",
    "<figcaption align = \"center\"> Figura 10. Menú para obtener matriz de geodésicos en UCINET. \n",
    " </figcaption>\n",
    " Fuente: UCINET\n",
    "</figure>\n",
    "    \n",
    "1. ¿Qué entiende de las opciones que se muestran en la parte inferior de la Figura 10? \n",
    "2. Si dejas las opciones de la Figura 10, ¿obtienes lo mismo que Python?\n",
    "3. Proponga un ejemplo donde a mayor diámetro más perjudicial para la red.\n",
    "4. Proponga un ejemplo donde a mayor diámetro más beneficioso para la red. \n",
    "5. Proponga un ejemplo donde a menor diámetro más beneficioso para la red.\n",
    "6. Proponga un ejemplo donde a menor diámetro más perjudicial para la red.\n",
    "\n",
    "_Prepara su respuesta con texto e imagenes de los obtenido en un GoogleDoc_.\n",
    "</div>"
   ]
  },
  {
   "cell_type": "markdown",
   "id": "caed4d77-d59f-4c60-8602-5c4837fad025",
   "metadata": {},
   "source": [
    "###  Alcanzabilidad en UCINET\n",
    "\n",
    "UCINET tiene la función para calcular la _Reachability Matrix_. La Figura 11 muestra la ruta:\n",
    "\n",
    "<figure>\n",
    "<img src=\"https://github.com/MAGALLANESJoseManuel/MGPIT_Pol748_Redes_2/raw/main/picsForSession/UCI_ReachMtx.png\" style=\"width:70%\">\n",
    "<figcaption align = \"center\"> Figura 11. Menú para obtener matriz de alcanzabilidad en UCINET. \n",
    " </figcaption>\n",
    " Fuente: UCINET\n",
    "</figure>"
   ]
  },
  {
   "cell_type": "markdown",
   "id": "4186a072",
   "metadata": {},
   "source": [
    "<div class=\"alert-success\">\n",
    "\n",
    "## Ejercicio 2\n",
    "\n",
    "Proceda a calcular la matriz de alcanzabilidad. Cuando aparezcan los resultados, responda:\n",
    "    \n",
    "¿UCINET le da la misma información que ya se calculó con Python, o es muy diferente? \n",
    "\n",
    "_Prepara su respuesta con texto e imagenes de los obtenido en un GoogleDoc_.\n",
    "</div>"
   ]
  },
  {
   "cell_type": "markdown",
   "id": "945277cc",
   "metadata": {},
   "source": [
    "Para obtener los componentes fuertemente conectados en UCINET podemos seguir la ruta que indica la Figura 12.\n",
    "<figure>\n",
    "<img src=\"https://github.com/MAGALLANESJoseManuel/MGPIT_Pol748_Redes_2/raw/main/picsForSession/uci_components_menu.png\" style=\"width:70%\">\n",
    "<figcaption align = \"center\"> Figura 12. Menú para obtener componentes fuertemente conectados en UCINET. \n",
    " </figcaption>\n",
    " Fuente: UCINET\n",
    "</figure>\n",
    "\n",
    "Al usar esta configuración (note lo seleccionado en la Figura 13).\n",
    "\n",
    "<figure>\n",
    "<img src=\"https://github.com/MAGALLANESJoseManuel/MGPIT_Pol748_Redes_2/raw/main/picsForSession/uci_components_actors_menu.png\" style=\"width:70%\">\n",
    "<figcaption align = \"center\"> Figura 13. Cálculo de componentes fuertemente conectados en UCINET. \n",
    " </figcaption>\n",
    " Fuente: UCINET\n",
    "</figure>\n",
    "\n",
    "Usted obtendrá los componentes solicitados."
   ]
  },
  {
   "cell_type": "markdown",
   "id": "ce6f03bf",
   "metadata": {},
   "source": [
    "<div class=\"alert-success\">\n",
    "\n",
    "## Ejercicio 3\n",
    "\n",
    "Al ver los resultados obtenidos luego de ejecutar el menú de la Figura 13, responda:\n",
    "    \n",
    "1. ¿UCINET muestra los nodos que tienen una reachability muy bajo? \n",
    "2. ¿Qué información adicional a la ya mostrada en Python sobre componentes fuertemente conectados le ofrece UCINET? Si hay algo adicional a lo visto en clase, describa y explique brevemente.\n",
    "\n",
    "_Prepara su respuesta con texto e imagenes de los obtenido en un GoogleDoc_.\n",
    "</div>"
   ]
  },
  {
   "cell_type": "markdown",
   "id": "41459779",
   "metadata": {},
   "source": [
    "Para obtener la reciprocidad en UCINET podemos seguir la ruta que indica la Figura 14.\n",
    "<figure>\n",
    "<img src=\"https://github.com/MAGALLANESJoseManuel/MGPIT_Pol748_Redes_2/raw/main/picsForSession/ucinet_recip.png\" style=\"width:70%\">\n",
    "<figcaption align = \"center\"> Figura 14. Ruta para obtener la reciprocidad en UCINET. \n",
    " </figcaption>\n",
    " Fuente: UCINET\n",
    "</figure>\n",
    "\n",
    "A continuación, seleccione \"arc-based\" como indica la Figura 15.\n",
    "\n",
    "<figure>\n",
    "<img src=\"https://github.com/MAGALLANESJoseManuel/MGPIT_Pol748_Redes_2/raw/main/picsForSession/ucinet_recip_select.png\" style=\"width:70%\">\n",
    "<figcaption align = \"center\"> Figura 14. Ruta para obtener la reciprocidad en UCINET. \n",
    " </figcaption>\n",
    " Fuente: UCINET\n",
    "</figure>"
   ]
  },
  {
   "cell_type": "markdown",
   "id": "3f80d07b",
   "metadata": {},
   "source": [
    "<div class=\"alert-success\">\n",
    "\n",
    "## Ejercicio 4\n",
    "\n",
    "Al ver los resultados obtenidos luego de ejecutar el menú de la Figura 14, responda:\n",
    "    \n",
    "1. ¿Qué diferencias encuentra entre lo que muestra UCINET y se calculó antes en Python? \n",
    "2. Investigue qué significa Dyad-based que le ofrece UCINET. \n",
    "\n",
    "_Prepara su respuesta con texto e imagenes de los obtenido en un GoogleDoc_.\n",
    "</div>"
   ]
  },
  {
   "cell_type": "markdown",
   "id": "1a66d2dc-7d9a-4b39-a8d7-d0e73f38687b",
   "metadata": {},
   "source": [
    "###  Densidad en UCINET\n",
    "\n",
    "Calcular la densidad en UCINET es muy sencillo, como se muestra en la Figura 15.\n",
    "\n",
    "<figure>\n",
    "<img src=\"https://github.com/MAGALLANESJoseManuel/MGPIT_Pol748_Redes_2/raw/main/picsForSession/uci_densi.png\" style=\"width:70%\">\n",
    "<figcaption align = \"center\"> Figura 15. Ruta para obtener la densidad en UCINET. \n",
    " </figcaption>\n",
    " Fuente: UCINET\n",
    "</figure>"
   ]
  },
  {
   "cell_type": "markdown",
   "id": "a904c6cb",
   "metadata": {},
   "source": [
    "<div class=\"alert-success\">\n",
    "\n",
    "## Ejercicio 5\n",
    "\n",
    "Al ver los resultados obtenidos luego de ejecutar el menú de la Figura 15, responda:\n",
    "    \n",
    "¿Qué diferencias encuentra entre lo que muestra UCINET y se calculó antes en Python? \n",
    "\n",
    "\n",
    "_Prepara su respuesta con texto e imagenes de los obtenido en un GoogleDoc_.\n",
    "</div>"
   ]
  },
  {
   "cell_type": "markdown",
   "id": "1ea88f26-9fdd-4fbc-a976-35d4815472b8",
   "metadata": {},
   "source": [
    "###  Centralidad en UCINET"
   ]
  },
  {
   "cell_type": "markdown",
   "id": "abf3ea7e-39d5-4625-99fd-394437822ecc",
   "metadata": {},
   "source": [
    "Calcular la centralidad de los nodos en UCINET es muy sencillo, como se muestra en la Figura 16.\n",
    "\n",
    "<figure>\n",
    "<img src=\"https://github.com/MAGALLANESJoseManuel/MGPIT_Pol748_Redes_2/raw/main/picsForSession/uci_centrality_menu.png\" style=\"width:70%\">\n",
    "<figcaption align = \"center\"> Figura 16. Ruta para obtener la centralidad de cada nodo en UCINET. \n",
    " </figcaption>\n",
    " Fuente: UCINET\n",
    "</figure>"
   ]
  },
  {
   "cell_type": "markdown",
   "id": "aa572b1c-de8c-434d-ad9c-083b34a38d68",
   "metadata": {},
   "source": [
    "<div class=\"alert-success\">\n",
    "\n",
    "## Ejercicio 6\n",
    "\n",
    "Luego del paso anterior, ejecute el menú de la Figura 17, seleccionando las TRES medidas indicadas.\n",
    "\n",
    "<figure>\n",
    "<img src=\"https://github.com/MAGALLANESJoseManuel/MGPIT_Pol748_Redes_2/raw/main/picsForSession/uci_centrality_exer.png\" style=\"width:70%\">\n",
    "<figcaption align = \"center\"> Figura 17. Opciones para calcular la centralidad en UCINET. \n",
    " </figcaption>\n",
    " Fuente: UCINET\n",
    "</figure>\n",
    "    \n",
    "¿Qué diferencias encuentra entre lo que muestra UCINET y se calculó antes en Python? \n",
    "\n",
    "_Prepara su respuesta con texto e imagenes de los obtenido en un GoogleDoc_.\n",
    "</div>"
   ]
  }
 ],
 "metadata": {
  "kernelspec": {
   "display_name": "Python 3 (ipykernel)",
   "language": "python",
   "name": "python3"
  },
  "language_info": {
   "codemirror_mode": {
    "name": "ipython",
    "version": 3
   },
   "file_extension": ".py",
   "mimetype": "text/x-python",
   "name": "python",
   "nbconvert_exporter": "python",
   "pygments_lexer": "ipython3",
   "version": "3.11.13"
  }
 },
 "nbformat": 4,
 "nbformat_minor": 5
}
