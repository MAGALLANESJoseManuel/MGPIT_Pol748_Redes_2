{
 "cells": [
  {
   "cell_type": "markdown",
   "id": "951d46a3-de0a-4b0f-9923-3ddf4f0000a8",
   "metadata": {},
   "source": [
    "<center><img src=\"https://i.imgur.com/YNtjmbq.png\" width=\"800\"></center> "
   ]
  },
  {
   "cell_type": "markdown",
   "id": "a8607510-5230-4696-af43-acfc51c0237c",
   "metadata": {},
   "source": [
    "# Práctica 2 – Exploración de Redes\n"
   ]
  },
  {
   "cell_type": "markdown",
   "id": "7aa749f7-feb2-4a1e-a2b3-52b4855b4903",
   "metadata": {},
   "source": [
    "En el año 2018, Quinten Dol sugirió a los usuarios de Twitter seguir a estas celebridades de la Tecnologia local:"
   ]
  },
  {
   "cell_type": "code",
   "execution_count": 2,
   "id": "fced90d3-bb17-47e4-b9cb-d0642d317522",
   "metadata": {
    "scrolled": true
   },
   "outputs": [
    {
     "data": {
      "text/html": [
       "\n",
       "        <iframe\n",
       "            width=\"800\"\n",
       "            height=\"350\"\n",
       "            src=\"https://www.builtinseattle.com/2018/08/06/50-seattle-tech-twitter-accounts-to-follow\"\n",
       "            frameborder=\"0\"\n",
       "            allowfullscreen\n",
       "            \n",
       "        ></iframe>\n",
       "        "
      ],
      "text/plain": [
       "<IPython.lib.display.IFrame at 0x10c081d10>"
      ]
     },
     "execution_count": 2,
     "metadata": {},
     "output_type": "execute_result"
    }
   ],
   "source": [
    "from IPython.display import IFrame\n",
    "IFrame('https://www.builtinseattle.com/2018/08/06/50-seattle-tech-twitter-accounts-to-follow', 800, 350)"
   ]
  },
  {
   "cell_type": "markdown",
   "id": "2693fed5-6ad1-43e3-8fa4-986cc69b10a4",
   "metadata": {},
   "source": [
    "Aunque proponía 50 _influencers_, sólo hay 46 activos en X (antes Twitter). Se construyó una red para ver si entre ellos se seguían, y esto tenemos:"
   ]
  },
  {
   "cell_type": "code",
   "execution_count": 5,
   "id": "fe573888-5dd1-4692-825c-d6532ab9320d",
   "metadata": {},
   "outputs": [
    {
     "data": {
      "text/html": [
       "\n",
       "        <iframe\n",
       "            width=\"800\"\n",
       "            height=\"350\"\n",
       "            src=\"https://docs.google.com/spreadsheets/d/e/2PACX-1vQaaNQb2frjnlt0fPSBQhp5tNydB0a9ibp98sblBn6OfvGd8vsx8cfHb4w8Cm_qC3EIeYFby_zNQBoK/pubhtml\"\n",
       "            frameborder=\"0\"\n",
       "            allowfullscreen\n",
       "            \n",
       "        ></iframe>\n",
       "        "
      ],
      "text/plain": [
       "<IPython.lib.display.IFrame at 0x10c083ed0>"
      ]
     },
     "execution_count": 5,
     "metadata": {},
     "output_type": "execute_result"
    }
   ],
   "source": [
    "IFrame('https://docs.google.com/spreadsheets/d/e/2PACX-1vQaaNQb2frjnlt0fPSBQhp5tNydB0a9ibp98sblBn6OfvGd8vsx8cfHb4w8Cm_qC3EIeYFby_zNQBoK/pubhtml', 800, 350)\n",
    "\n"
   ]
  },
  {
   "cell_type": "markdown",
   "id": "9ea29c7d-fffb-4d96-91a1-7322299e006c",
   "metadata": {},
   "source": [
    " Los datos puedes descargarlos desde este enlace en tu carpeta **data** desde este [enlace](https://drive.google.com/drive/folders/1QXy0RwgNUBryirnVx0-_-rfr3WZxSld5?usp=sharing). No olvide indicar que **data** es el folder por defecto. Abramos en UCINET la matriz de adyacencia como en la sesión anterior (usando el **Matrix Editor**):\n",
    " \n",
    " \n",
    "<img src=\"https://i.imgur.com/5CcgRfx.png\" width=\"800\"/>\n",
    "\n",
    "La matriz de adyacencia se abrirá en el editor. Guardela en el formato de UCINET:\n",
    "\n",
    "\n",
    "<img src=\"https://i.imgur.com/5RIrcza.png\" width=\"800\"/>\n",
    "\n",
    "A esta altura, ya debes tener un archivo de UCINET con esta red.\n",
    "\n",
    "\n",
    "<img src=\"https://i.imgur.com/2lZCLEg.png\" width=\"800\"/>\n",
    "\n",
    "\n",
    "Ahora, como tenemos atributos, usemos el **DL editor** para abrirlo:\n",
    "\n",
    "\n",
    "\n",
    "<img src=\"https://i.imgur.com/n9pKeC2.png\" width=\"800\"/>\n",
    "\n",
    "Una vez abierto, guardalo como archivo UCINET también, pero indica que es de atributos en el nombre del archivo. Nota que estamos usando la opción _Matrix_ en el formato de datos:\n",
    "\n",
    "\n",
    "\n",
    "<img src=\"https://i.imgur.com/7RR7Igy.png\" width=\"800\"/>\n"
   ]
  },
  {
   "cell_type": "markdown",
   "id": "3b170a3e-bf56-4ec0-b4aa-0258931cbbc7",
   "metadata": {},
   "source": [
    "# Visualizando en NETDRAW\n",
    "\n",
    "Como se sabe, UCINET usa NetDraw para dibujar. Como tenemos archivo de RED y de ATRIBUTO debemos seguir  pasos particulares en cada caso:\n",
    "\n",
    "<img src=\"https://i.imgur.com/pt1QwcC.png\" width=\"800\"/>\n",
    "\n",
    "\n",
    "1) La red se abre con la carpeta que muestra una _U_. Proceda.\n",
    "2) Los atributos se abren con la carpeta que muestra una _A_. Proceda.\n",
    "\n",
    "Si siguió los pasos, debe ver algo así:\n",
    "\n",
    "\n",
    "<img src=\"https://i.imgur.com/fMZeC6c.png\" width=\"800\"/>\n",
    "\n",
    "\n",
    "\n",
    "\n"
   ]
  },
  {
   "cell_type": "code",
   "execution_count": null,
   "id": "f4575e47-1403-48ae-a986-2adb474f0341",
   "metadata": {},
   "outputs": [],
   "source": [
    "<img src=\"https://i.imgur.com/mGnEjxg.png\" width=\"800\"/>"
   ]
  },
  {
   "cell_type": "code",
   "execution_count": null,
   "id": "a6243ea7-761e-46dc-81b8-3a927394ad0e",
   "metadata": {},
   "outputs": [],
   "source": []
  }
 ],
 "metadata": {
  "kernelspec": {
   "display_name": "Python 3 (ipykernel)",
   "language": "python",
   "name": "python3"
  },
  "language_info": {
   "codemirror_mode": {
    "name": "ipython",
    "version": 3
   },
   "file_extension": ".py",
   "mimetype": "text/x-python",
   "name": "python",
   "nbconvert_exporter": "python",
   "pygments_lexer": "ipython3",
   "version": "3.11.5"
  }
 },
 "nbformat": 4,
 "nbformat_minor": 5
}
